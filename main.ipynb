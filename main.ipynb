{
 "cells": [
  {
   "cell_type": "code",
   "execution_count": 5,
   "id": "2e9a8fae",
   "metadata": {},
   "outputs": [],
   "source": [
    "import csv\n",
    "import datetime"
   ]
  },
  {
   "cell_type": "code",
   "execution_count": 6,
   "id": "2d0f1824",
   "metadata": {},
   "outputs": [],
   "source": [
    "# Convert time string to unix timestamp\n",
    "def convert_time(time_str):\n",
    "    time_obj = datetime.datetime.strptime(time_str, \"%Y/%m/%d %H:%M:%S\")\n",
    "    return int(time_obj.timestamp())"
   ]
  },
  {
   "cell_type": "code",
   "execution_count": 7,
   "id": "c0e7e2c3",
   "metadata": {},
   "outputs": [],
   "source": [
    "access_file = open(\"examples/access.log\", \"r\")\n",
    "export_file = open(\"examples/access.log.csv\", \"w\", newline=\"\")"
   ]
  },
  {
   "cell_type": "code",
   "execution_count": 8,
   "id": "1a466a4c",
   "metadata": {},
   "outputs": [],
   "source": [
    "csv_writer = csv.writer(export_file)\n",
    "csv_writer.writerow([\"time\", \"source\", \"status\", \"target\", \"route\", \"email\"])\n",
    "for line in access_file:\n",
    "    line = line.strip()\n",
    "    data = line.split()\n",
    "    csv = [0, \"unknown_source\", \"unknown_status\", \"unknown_target\", \"unknown_route\", \"unknown_email\"]\n",
    "    csv[0] = convert_time(data[0] + \" \" + data[1])\n",
    "    csv[1] = data[2]\n",
    "    csv[2] = data[3]\n",
    "    csv[3] = data[4]\n",
    "    csv[4] = data[5]\n",
    "    csv[5] = data[7]\n",
    "    csv_writer.writerow(csv)"
   ]
  },
  {
   "cell_type": "code",
   "execution_count": null,
   "id": "261793cc",
   "metadata": {},
   "outputs": [],
   "source": []
  }
 ],
 "metadata": {
  "kernelspec": {
   "display_name": "Python 3 (ipykernel)",
   "language": "python",
   "name": "python3"
  },
  "language_info": {
   "codemirror_mode": {
    "name": "ipython",
    "version": 3
   },
   "file_extension": ".py",
   "mimetype": "text/x-python",
   "name": "python",
   "nbconvert_exporter": "python",
   "pygments_lexer": "ipython3",
   "version": "3.11.4"
  }
 },
 "nbformat": 4,
 "nbformat_minor": 5
}
